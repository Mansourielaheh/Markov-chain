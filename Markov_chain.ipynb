{
  "nbformat": 4,
  "nbformat_minor": 0,
  "metadata": {
    "colab": {
      "name": "markov_HW03.ipynb",
      "provenance": [],
      "collapsed_sections": []
    },
    "kernelspec": {
      "name": "python3",
      "display_name": "Python 3"
    },
    "language_info": {
      "name": "python"
    }
  },
  "cells": [
    {
      "cell_type": "code",
      "execution_count": 1,
      "metadata": {
        "colab": {
          "base_uri": "https://localhost:8080/",
          "height": 476
        },
        "id": "BxBqNBOPz6CP",
        "outputId": "d4f2210b-965c-4f5b-ceb4-ec094cb12523"
      },
      "outputs": [
        {
          "output_type": "stream",
          "name": "stdout",
          "text": [
            "Mounted at /content/drive/\n"
          ]
        },
        {
          "output_type": "display_data",
          "data": {
            "text/plain": [
              "            Id   Income  Age  Experience Married/Single House_Ownership  \\\n",
              "0            1  1303834   23           3         single          rented   \n",
              "1            2  7574516   40          10         single          rented   \n",
              "2            3  3991815   66           4        married          rented   \n",
              "3            4  6256451   41           2         single          rented   \n",
              "4            5  5768871   47          11         single          rented   \n",
              "...        ...      ...  ...         ...            ...             ...   \n",
              "251995  251996  8154883   43          13         single          rented   \n",
              "251996  251997  2843572   26          10         single          rented   \n",
              "251997  251998  4522448   46           7         single          rented   \n",
              "251998  251999  6507128   45           0         single          rented   \n",
              "251999  252000  9070230   70          17         single          rented   \n",
              "\n",
              "       Car_Ownership           Profession                 CITY  \\\n",
              "0                 no  Mechanical_engineer                 Rewa   \n",
              "1                 no   Software_Developer             Parbhani   \n",
              "2                 no     Technical_writer            Alappuzha   \n",
              "3                yes   Software_Developer          Bhubaneswar   \n",
              "4                 no        Civil_servant  Tiruchirappalli[10]   \n",
              "...              ...                  ...                  ...   \n",
              "251995            no              Surgeon              Kolkata   \n",
              "251996            no         Army_officer                 Rewa   \n",
              "251997            no      Design_Engineer      Kalyan-Dombivli   \n",
              "251998            no     Graphic_Designer          Pondicherry   \n",
              "251999            no         Statistician                Avadi   \n",
              "\n",
              "                 STATE  CURRENT_JOB_YRS  CURRENT_HOUSE_YRS  Risk_Flag  \n",
              "0       Madhya_Pradesh                3                 13          0  \n",
              "1          Maharashtra                9                 13          0  \n",
              "2               Kerala                4                 10          0  \n",
              "3               Odisha                2                 12          1  \n",
              "4           Tamil_Nadu                3                 14          1  \n",
              "...                ...              ...                ...        ...  \n",
              "251995     West_Bengal                6                 11          0  \n",
              "251996  Madhya_Pradesh                6                 11          0  \n",
              "251997     Maharashtra                7                 12          0  \n",
              "251998      Puducherry                0                 10          0  \n",
              "251999      Tamil_Nadu                7                 11          0  \n",
              "\n",
              "[252000 rows x 13 columns]"
            ],
            "text/html": [
              "\n",
              "  <div id=\"df-b9f99ce7-cb53-485c-a697-9d4a3ec7a80f\">\n",
              "    <div class=\"colab-df-container\">\n",
              "      <div>\n",
              "<style scoped>\n",
              "    .dataframe tbody tr th:only-of-type {\n",
              "        vertical-align: middle;\n",
              "    }\n",
              "\n",
              "    .dataframe tbody tr th {\n",
              "        vertical-align: top;\n",
              "    }\n",
              "\n",
              "    .dataframe thead th {\n",
              "        text-align: right;\n",
              "    }\n",
              "</style>\n",
              "<table border=\"1\" class=\"dataframe\">\n",
              "  <thead>\n",
              "    <tr style=\"text-align: right;\">\n",
              "      <th></th>\n",
              "      <th>Id</th>\n",
              "      <th>Income</th>\n",
              "      <th>Age</th>\n",
              "      <th>Experience</th>\n",
              "      <th>Married/Single</th>\n",
              "      <th>House_Ownership</th>\n",
              "      <th>Car_Ownership</th>\n",
              "      <th>Profession</th>\n",
              "      <th>CITY</th>\n",
              "      <th>STATE</th>\n",
              "      <th>CURRENT_JOB_YRS</th>\n",
              "      <th>CURRENT_HOUSE_YRS</th>\n",
              "      <th>Risk_Flag</th>\n",
              "    </tr>\n",
              "  </thead>\n",
              "  <tbody>\n",
              "    <tr>\n",
              "      <th>0</th>\n",
              "      <td>1</td>\n",
              "      <td>1303834</td>\n",
              "      <td>23</td>\n",
              "      <td>3</td>\n",
              "      <td>single</td>\n",
              "      <td>rented</td>\n",
              "      <td>no</td>\n",
              "      <td>Mechanical_engineer</td>\n",
              "      <td>Rewa</td>\n",
              "      <td>Madhya_Pradesh</td>\n",
              "      <td>3</td>\n",
              "      <td>13</td>\n",
              "      <td>0</td>\n",
              "    </tr>\n",
              "    <tr>\n",
              "      <th>1</th>\n",
              "      <td>2</td>\n",
              "      <td>7574516</td>\n",
              "      <td>40</td>\n",
              "      <td>10</td>\n",
              "      <td>single</td>\n",
              "      <td>rented</td>\n",
              "      <td>no</td>\n",
              "      <td>Software_Developer</td>\n",
              "      <td>Parbhani</td>\n",
              "      <td>Maharashtra</td>\n",
              "      <td>9</td>\n",
              "      <td>13</td>\n",
              "      <td>0</td>\n",
              "    </tr>\n",
              "    <tr>\n",
              "      <th>2</th>\n",
              "      <td>3</td>\n",
              "      <td>3991815</td>\n",
              "      <td>66</td>\n",
              "      <td>4</td>\n",
              "      <td>married</td>\n",
              "      <td>rented</td>\n",
              "      <td>no</td>\n",
              "      <td>Technical_writer</td>\n",
              "      <td>Alappuzha</td>\n",
              "      <td>Kerala</td>\n",
              "      <td>4</td>\n",
              "      <td>10</td>\n",
              "      <td>0</td>\n",
              "    </tr>\n",
              "    <tr>\n",
              "      <th>3</th>\n",
              "      <td>4</td>\n",
              "      <td>6256451</td>\n",
              "      <td>41</td>\n",
              "      <td>2</td>\n",
              "      <td>single</td>\n",
              "      <td>rented</td>\n",
              "      <td>yes</td>\n",
              "      <td>Software_Developer</td>\n",
              "      <td>Bhubaneswar</td>\n",
              "      <td>Odisha</td>\n",
              "      <td>2</td>\n",
              "      <td>12</td>\n",
              "      <td>1</td>\n",
              "    </tr>\n",
              "    <tr>\n",
              "      <th>4</th>\n",
              "      <td>5</td>\n",
              "      <td>5768871</td>\n",
              "      <td>47</td>\n",
              "      <td>11</td>\n",
              "      <td>single</td>\n",
              "      <td>rented</td>\n",
              "      <td>no</td>\n",
              "      <td>Civil_servant</td>\n",
              "      <td>Tiruchirappalli[10]</td>\n",
              "      <td>Tamil_Nadu</td>\n",
              "      <td>3</td>\n",
              "      <td>14</td>\n",
              "      <td>1</td>\n",
              "    </tr>\n",
              "    <tr>\n",
              "      <th>...</th>\n",
              "      <td>...</td>\n",
              "      <td>...</td>\n",
              "      <td>...</td>\n",
              "      <td>...</td>\n",
              "      <td>...</td>\n",
              "      <td>...</td>\n",
              "      <td>...</td>\n",
              "      <td>...</td>\n",
              "      <td>...</td>\n",
              "      <td>...</td>\n",
              "      <td>...</td>\n",
              "      <td>...</td>\n",
              "      <td>...</td>\n",
              "    </tr>\n",
              "    <tr>\n",
              "      <th>251995</th>\n",
              "      <td>251996</td>\n",
              "      <td>8154883</td>\n",
              "      <td>43</td>\n",
              "      <td>13</td>\n",
              "      <td>single</td>\n",
              "      <td>rented</td>\n",
              "      <td>no</td>\n",
              "      <td>Surgeon</td>\n",
              "      <td>Kolkata</td>\n",
              "      <td>West_Bengal</td>\n",
              "      <td>6</td>\n",
              "      <td>11</td>\n",
              "      <td>0</td>\n",
              "    </tr>\n",
              "    <tr>\n",
              "      <th>251996</th>\n",
              "      <td>251997</td>\n",
              "      <td>2843572</td>\n",
              "      <td>26</td>\n",
              "      <td>10</td>\n",
              "      <td>single</td>\n",
              "      <td>rented</td>\n",
              "      <td>no</td>\n",
              "      <td>Army_officer</td>\n",
              "      <td>Rewa</td>\n",
              "      <td>Madhya_Pradesh</td>\n",
              "      <td>6</td>\n",
              "      <td>11</td>\n",
              "      <td>0</td>\n",
              "    </tr>\n",
              "    <tr>\n",
              "      <th>251997</th>\n",
              "      <td>251998</td>\n",
              "      <td>4522448</td>\n",
              "      <td>46</td>\n",
              "      <td>7</td>\n",
              "      <td>single</td>\n",
              "      <td>rented</td>\n",
              "      <td>no</td>\n",
              "      <td>Design_Engineer</td>\n",
              "      <td>Kalyan-Dombivli</td>\n",
              "      <td>Maharashtra</td>\n",
              "      <td>7</td>\n",
              "      <td>12</td>\n",
              "      <td>0</td>\n",
              "    </tr>\n",
              "    <tr>\n",
              "      <th>251998</th>\n",
              "      <td>251999</td>\n",
              "      <td>6507128</td>\n",
              "      <td>45</td>\n",
              "      <td>0</td>\n",
              "      <td>single</td>\n",
              "      <td>rented</td>\n",
              "      <td>no</td>\n",
              "      <td>Graphic_Designer</td>\n",
              "      <td>Pondicherry</td>\n",
              "      <td>Puducherry</td>\n",
              "      <td>0</td>\n",
              "      <td>10</td>\n",
              "      <td>0</td>\n",
              "    </tr>\n",
              "    <tr>\n",
              "      <th>251999</th>\n",
              "      <td>252000</td>\n",
              "      <td>9070230</td>\n",
              "      <td>70</td>\n",
              "      <td>17</td>\n",
              "      <td>single</td>\n",
              "      <td>rented</td>\n",
              "      <td>no</td>\n",
              "      <td>Statistician</td>\n",
              "      <td>Avadi</td>\n",
              "      <td>Tamil_Nadu</td>\n",
              "      <td>7</td>\n",
              "      <td>11</td>\n",
              "      <td>0</td>\n",
              "    </tr>\n",
              "  </tbody>\n",
              "</table>\n",
              "<p>252000 rows × 13 columns</p>\n",
              "</div>\n",
              "      <button class=\"colab-df-convert\" onclick=\"convertToInteractive('df-b9f99ce7-cb53-485c-a697-9d4a3ec7a80f')\"\n",
              "              title=\"Convert this dataframe to an interactive table.\"\n",
              "              style=\"display:none;\">\n",
              "        \n",
              "  <svg xmlns=\"http://www.w3.org/2000/svg\" height=\"24px\"viewBox=\"0 0 24 24\"\n",
              "       width=\"24px\">\n",
              "    <path d=\"M0 0h24v24H0V0z\" fill=\"none\"/>\n",
              "    <path d=\"M18.56 5.44l.94 2.06.94-2.06 2.06-.94-2.06-.94-.94-2.06-.94 2.06-2.06.94zm-11 1L8.5 8.5l.94-2.06 2.06-.94-2.06-.94L8.5 2.5l-.94 2.06-2.06.94zm10 10l.94 2.06.94-2.06 2.06-.94-2.06-.94-.94-2.06-.94 2.06-2.06.94z\"/><path d=\"M17.41 7.96l-1.37-1.37c-.4-.4-.92-.59-1.43-.59-.52 0-1.04.2-1.43.59L10.3 9.45l-7.72 7.72c-.78.78-.78 2.05 0 2.83L4 21.41c.39.39.9.59 1.41.59.51 0 1.02-.2 1.41-.59l7.78-7.78 2.81-2.81c.8-.78.8-2.07 0-2.86zM5.41 20L4 18.59l7.72-7.72 1.47 1.35L5.41 20z\"/>\n",
              "  </svg>\n",
              "      </button>\n",
              "      \n",
              "  <style>\n",
              "    .colab-df-container {\n",
              "      display:flex;\n",
              "      flex-wrap:wrap;\n",
              "      gap: 12px;\n",
              "    }\n",
              "\n",
              "    .colab-df-convert {\n",
              "      background-color: #E8F0FE;\n",
              "      border: none;\n",
              "      border-radius: 50%;\n",
              "      cursor: pointer;\n",
              "      display: none;\n",
              "      fill: #1967D2;\n",
              "      height: 32px;\n",
              "      padding: 0 0 0 0;\n",
              "      width: 32px;\n",
              "    }\n",
              "\n",
              "    .colab-df-convert:hover {\n",
              "      background-color: #E2EBFA;\n",
              "      box-shadow: 0px 1px 2px rgba(60, 64, 67, 0.3), 0px 1px 3px 1px rgba(60, 64, 67, 0.15);\n",
              "      fill: #174EA6;\n",
              "    }\n",
              "\n",
              "    [theme=dark] .colab-df-convert {\n",
              "      background-color: #3B4455;\n",
              "      fill: #D2E3FC;\n",
              "    }\n",
              "\n",
              "    [theme=dark] .colab-df-convert:hover {\n",
              "      background-color: #434B5C;\n",
              "      box-shadow: 0px 1px 3px 1px rgba(0, 0, 0, 0.15);\n",
              "      filter: drop-shadow(0px 1px 2px rgba(0, 0, 0, 0.3));\n",
              "      fill: #FFFFFF;\n",
              "    }\n",
              "  </style>\n",
              "\n",
              "      <script>\n",
              "        const buttonEl =\n",
              "          document.querySelector('#df-b9f99ce7-cb53-485c-a697-9d4a3ec7a80f button.colab-df-convert');\n",
              "        buttonEl.style.display =\n",
              "          google.colab.kernel.accessAllowed ? 'block' : 'none';\n",
              "\n",
              "        async function convertToInteractive(key) {\n",
              "          const element = document.querySelector('#df-b9f99ce7-cb53-485c-a697-9d4a3ec7a80f');\n",
              "          const dataTable =\n",
              "            await google.colab.kernel.invokeFunction('convertToInteractive',\n",
              "                                                     [key], {});\n",
              "          if (!dataTable) return;\n",
              "\n",
              "          const docLinkHtml = 'Like what you see? Visit the ' +\n",
              "            '<a target=\"_blank\" href=https://colab.research.google.com/notebooks/data_table.ipynb>data table notebook</a>'\n",
              "            + ' to learn more about interactive tables.';\n",
              "          element.innerHTML = '';\n",
              "          dataTable['output_type'] = 'display_data';\n",
              "          await google.colab.output.renderOutput(dataTable, element);\n",
              "          const docLink = document.createElement('div');\n",
              "          docLink.innerHTML = docLinkHtml;\n",
              "          element.appendChild(docLink);\n",
              "        }\n",
              "      </script>\n",
              "    </div>\n",
              "  </div>\n",
              "  "
            ]
          },
          "metadata": {}
        },
        {
          "output_type": "stream",
          "name": "stdout",
          "text": [
            "neumerical columns: ['Income', 'Age', 'Experience', 'CURRENT_JOB_YRS', 'CURRENT_HOUSE_YRS', 'Risk_Flag']\n",
            "categorical columns: ['Married/Single', 'House_Ownership', 'Car_Ownership', 'Profession', 'CITY', 'STATE']\n"
          ]
        }
      ],
      "source": [
        "from google.colab import drive\n",
        "import pandas as pd\n",
        "import numpy as np\n",
        "import math\n",
        "import matplotlib.pyplot as plt\n",
        "from sklearn.preprocessing import LabelEncoder\n",
        "from sklearn.feature_selection import SelectKBest,f_classif,chi2, mutual_info_classif\n",
        "import numpy as np\n",
        "import pandas as pd\n",
        "import matplotlib.pyplot as plt\n",
        "%matplotlib inline\n",
        "import seaborn as sns\n",
        "drive.mount('/content/drive/')\n",
        "\n",
        "\n",
        "datapath = \"/content/drive/MyDrive/hwo3/Training Data.csv\"\n",
        "df=pd.read_csv(datapath)\n",
        "display(df)\n",
        "dft = \"/content/drive/MyDrive/hwo3/test.csv\"\n",
        "#dft=pd.read_csv(dft)\n",
        "dataset = df.drop(['Id'],axis=1)\n",
        "dataset.head()\n",
        "dataset = df.drop(['Id'],axis=1)\n",
        "dataset.head()\n",
        "######example for change data\n",
        "from sklearn.compose import make_column_selector as selector\n",
        "\n",
        "#numerical_columns_selector = selector(dtype_exclude=object)\n",
        "#categorical_columns_selector = selector(dtype_include=object)\n",
        "#numerical_columns = numerical_columns_selector(data)\n",
        "#categorical_columns = categorical_columns_selector(data)\n",
        "#dataset[categorical_columns] = dataset[categorical_columns].apply(LabelEncoder().fit_transform) \n",
        "\n",
        "\n",
        "######\n",
        "from sklearn.compose import make_column_selector as selector\n",
        "numerical_columns_selector = selector(dtype_exclude=object) \n",
        "categorical_columns_selector = selector(dtype_include=object) \n",
        "numerical_columns = numerical_columns_selector(dataset)\n",
        "categorical_columns = categorical_columns_selector(dataset)\n",
        "print('neumerical columns:',numerical_columns)\n",
        "print('categorical columns:',categorical_columns)\n",
        "dataset[categorical_columns] = dataset[categorical_columns].apply(LabelEncoder().fit_transform) \n",
        "dataset.head()\n",
        "TruePosetive = 0\n",
        "TrueNegative = 0\n",
        "FulsePosetive = 0\n",
        "FulseNegative = 0"
      ]
    },
    {
      "cell_type": "code",
      "source": [
        "X = dataset.iloc[:,:-1]\n",
        "y = dataset.iloc[:,-1]\n",
        "\n",
        "selector = SelectKBest(score_func=f_classif, k=6)\n",
        "selector.fit(X, y)\n",
        "cols = selector.get_support(indices=True) \n",
        "print('the best of them: ',selector.get_feature_names_out())\n",
        "dataset = dataset.iloc[:,cols]\n",
        "dataset['labels'] = y\n",
        "dataset.head()"
      ],
      "metadata": {
        "colab": {
          "base_uri": "https://localhost:8080/",
          "height": 345
        },
        "id": "P2WUF1mRSTgR",
        "outputId": "5fb59ca3-a948-4933-b736-5b2fd6643e31"
      },
      "execution_count": 2,
      "outputs": [
        {
          "output_type": "stream",
          "name": "stdout",
          "text": [
            "the best of them:  ['Age' 'Experience' 'Married/Single' 'House_Ownership' 'Car_Ownership'\n",
            " 'CURRENT_JOB_YRS']\n"
          ]
        },
        {
          "output_type": "stream",
          "name": "stderr",
          "text": [
            "/usr/local/lib/python3.7/dist-packages/ipykernel_launcher.py:9: SettingWithCopyWarning: \n",
            "A value is trying to be set on a copy of a slice from a DataFrame.\n",
            "Try using .loc[row_indexer,col_indexer] = value instead\n",
            "\n",
            "See the caveats in the documentation: https://pandas.pydata.org/pandas-docs/stable/user_guide/indexing.html#returning-a-view-versus-a-copy\n",
            "  if __name__ == '__main__':\n"
          ]
        },
        {
          "output_type": "execute_result",
          "data": {
            "text/plain": [
              "   Age  Experience  Married/Single  House_Ownership  Car_Ownership  \\\n",
              "0   23           3               1                2              0   \n",
              "1   40          10               1                2              0   \n",
              "2   66           4               0                2              0   \n",
              "3   41           2               1                2              1   \n",
              "4   47          11               1                2              0   \n",
              "\n",
              "   CURRENT_JOB_YRS  labels  \n",
              "0                3       0  \n",
              "1                9       0  \n",
              "2                4       0  \n",
              "3                2       1  \n",
              "4                3       1  "
            ],
            "text/html": [
              "\n",
              "  <div id=\"df-1e9dce37-382d-46a0-a1fa-963c1550a0ff\">\n",
              "    <div class=\"colab-df-container\">\n",
              "      <div>\n",
              "<style scoped>\n",
              "    .dataframe tbody tr th:only-of-type {\n",
              "        vertical-align: middle;\n",
              "    }\n",
              "\n",
              "    .dataframe tbody tr th {\n",
              "        vertical-align: top;\n",
              "    }\n",
              "\n",
              "    .dataframe thead th {\n",
              "        text-align: right;\n",
              "    }\n",
              "</style>\n",
              "<table border=\"1\" class=\"dataframe\">\n",
              "  <thead>\n",
              "    <tr style=\"text-align: right;\">\n",
              "      <th></th>\n",
              "      <th>Age</th>\n",
              "      <th>Experience</th>\n",
              "      <th>Married/Single</th>\n",
              "      <th>House_Ownership</th>\n",
              "      <th>Car_Ownership</th>\n",
              "      <th>CURRENT_JOB_YRS</th>\n",
              "      <th>labels</th>\n",
              "    </tr>\n",
              "  </thead>\n",
              "  <tbody>\n",
              "    <tr>\n",
              "      <th>0</th>\n",
              "      <td>23</td>\n",
              "      <td>3</td>\n",
              "      <td>1</td>\n",
              "      <td>2</td>\n",
              "      <td>0</td>\n",
              "      <td>3</td>\n",
              "      <td>0</td>\n",
              "    </tr>\n",
              "    <tr>\n",
              "      <th>1</th>\n",
              "      <td>40</td>\n",
              "      <td>10</td>\n",
              "      <td>1</td>\n",
              "      <td>2</td>\n",
              "      <td>0</td>\n",
              "      <td>9</td>\n",
              "      <td>0</td>\n",
              "    </tr>\n",
              "    <tr>\n",
              "      <th>2</th>\n",
              "      <td>66</td>\n",
              "      <td>4</td>\n",
              "      <td>0</td>\n",
              "      <td>2</td>\n",
              "      <td>0</td>\n",
              "      <td>4</td>\n",
              "      <td>0</td>\n",
              "    </tr>\n",
              "    <tr>\n",
              "      <th>3</th>\n",
              "      <td>41</td>\n",
              "      <td>2</td>\n",
              "      <td>1</td>\n",
              "      <td>2</td>\n",
              "      <td>1</td>\n",
              "      <td>2</td>\n",
              "      <td>1</td>\n",
              "    </tr>\n",
              "    <tr>\n",
              "      <th>4</th>\n",
              "      <td>47</td>\n",
              "      <td>11</td>\n",
              "      <td>1</td>\n",
              "      <td>2</td>\n",
              "      <td>0</td>\n",
              "      <td>3</td>\n",
              "      <td>1</td>\n",
              "    </tr>\n",
              "  </tbody>\n",
              "</table>\n",
              "</div>\n",
              "      <button class=\"colab-df-convert\" onclick=\"convertToInteractive('df-1e9dce37-382d-46a0-a1fa-963c1550a0ff')\"\n",
              "              title=\"Convert this dataframe to an interactive table.\"\n",
              "              style=\"display:none;\">\n",
              "        \n",
              "  <svg xmlns=\"http://www.w3.org/2000/svg\" height=\"24px\"viewBox=\"0 0 24 24\"\n",
              "       width=\"24px\">\n",
              "    <path d=\"M0 0h24v24H0V0z\" fill=\"none\"/>\n",
              "    <path d=\"M18.56 5.44l.94 2.06.94-2.06 2.06-.94-2.06-.94-.94-2.06-.94 2.06-2.06.94zm-11 1L8.5 8.5l.94-2.06 2.06-.94-2.06-.94L8.5 2.5l-.94 2.06-2.06.94zm10 10l.94 2.06.94-2.06 2.06-.94-2.06-.94-.94-2.06-.94 2.06-2.06.94z\"/><path d=\"M17.41 7.96l-1.37-1.37c-.4-.4-.92-.59-1.43-.59-.52 0-1.04.2-1.43.59L10.3 9.45l-7.72 7.72c-.78.78-.78 2.05 0 2.83L4 21.41c.39.39.9.59 1.41.59.51 0 1.02-.2 1.41-.59l7.78-7.78 2.81-2.81c.8-.78.8-2.07 0-2.86zM5.41 20L4 18.59l7.72-7.72 1.47 1.35L5.41 20z\"/>\n",
              "  </svg>\n",
              "      </button>\n",
              "      \n",
              "  <style>\n",
              "    .colab-df-container {\n",
              "      display:flex;\n",
              "      flex-wrap:wrap;\n",
              "      gap: 12px;\n",
              "    }\n",
              "\n",
              "    .colab-df-convert {\n",
              "      background-color: #E8F0FE;\n",
              "      border: none;\n",
              "      border-radius: 50%;\n",
              "      cursor: pointer;\n",
              "      display: none;\n",
              "      fill: #1967D2;\n",
              "      height: 32px;\n",
              "      padding: 0 0 0 0;\n",
              "      width: 32px;\n",
              "    }\n",
              "\n",
              "    .colab-df-convert:hover {\n",
              "      background-color: #E2EBFA;\n",
              "      box-shadow: 0px 1px 2px rgba(60, 64, 67, 0.3), 0px 1px 3px 1px rgba(60, 64, 67, 0.15);\n",
              "      fill: #174EA6;\n",
              "    }\n",
              "\n",
              "    [theme=dark] .colab-df-convert {\n",
              "      background-color: #3B4455;\n",
              "      fill: #D2E3FC;\n",
              "    }\n",
              "\n",
              "    [theme=dark] .colab-df-convert:hover {\n",
              "      background-color: #434B5C;\n",
              "      box-shadow: 0px 1px 3px 1px rgba(0, 0, 0, 0.15);\n",
              "      filter: drop-shadow(0px 1px 2px rgba(0, 0, 0, 0.3));\n",
              "      fill: #FFFFFF;\n",
              "    }\n",
              "  </style>\n",
              "\n",
              "      <script>\n",
              "        const buttonEl =\n",
              "          document.querySelector('#df-1e9dce37-382d-46a0-a1fa-963c1550a0ff button.colab-df-convert');\n",
              "        buttonEl.style.display =\n",
              "          google.colab.kernel.accessAllowed ? 'block' : 'none';\n",
              "\n",
              "        async function convertToInteractive(key) {\n",
              "          const element = document.querySelector('#df-1e9dce37-382d-46a0-a1fa-963c1550a0ff');\n",
              "          const dataTable =\n",
              "            await google.colab.kernel.invokeFunction('convertToInteractive',\n",
              "                                                     [key], {});\n",
              "          if (!dataTable) return;\n",
              "\n",
              "          const docLinkHtml = 'Like what you see? Visit the ' +\n",
              "            '<a target=\"_blank\" href=https://colab.research.google.com/notebooks/data_table.ipynb>data table notebook</a>'\n",
              "            + ' to learn more about interactive tables.';\n",
              "          element.innerHTML = '';\n",
              "          dataTable['output_type'] = 'display_data';\n",
              "          await google.colab.output.renderOutput(dataTable, element);\n",
              "          const docLink = document.createElement('div');\n",
              "          docLink.innerHTML = docLinkHtml;\n",
              "          element.appendChild(docLink);\n",
              "        }\n",
              "      </script>\n",
              "    </div>\n",
              "  </div>\n",
              "  "
            ]
          },
          "metadata": {},
          "execution_count": 2
        }
      ]
    },
    {
      "cell_type": "code",
      "source": [
        "df=dataset"
      ],
      "metadata": {
        "id": "UmiIjXThnmmc"
      },
      "execution_count": null,
      "outputs": []
    },
    {
      "cell_type": "code",
      "source": [
        "df.info()"
      ],
      "metadata": {
        "colab": {
          "base_uri": "https://localhost:8080/"
        },
        "id": "1SZyeDjJ4Zwl",
        "outputId": "ba7ef4d7-878c-4ec1-9395-e74f875c5f10"
      },
      "execution_count": null,
      "outputs": [
        {
          "output_type": "stream",
          "name": "stdout",
          "text": [
            "<class 'pandas.core.frame.DataFrame'>\n",
            "Int64Index: 252000 entries, 0 to 251999\n",
            "Data columns (total 12 columns):\n",
            " #   Column             Non-Null Count   Dtype\n",
            "---  ------             --------------   -----\n",
            " 0   Income             252000 non-null  int64\n",
            " 1   Age                252000 non-null  int64\n",
            " 2   Experience         252000 non-null  int64\n",
            " 3   Married/Single     252000 non-null  int64\n",
            " 4   House_Ownership    252000 non-null  int64\n",
            " 5   Car_Ownership      252000 non-null  int64\n",
            " 6   Profession         252000 non-null  int64\n",
            " 7   CITY               252000 non-null  int64\n",
            " 8   STATE              252000 non-null  int64\n",
            " 9   CURRENT_JOB_YRS    252000 non-null  int64\n",
            " 10  CURRENT_HOUSE_YRS  252000 non-null  int64\n",
            " 11  Risk_Flag          252000 non-null  int64\n",
            "dtypes: int64(12)\n",
            "memory usage: 33.1 MB\n"
          ]
        }
      ]
    },
    {
      "cell_type": "code",
      "source": [
        "df.shape"
      ],
      "metadata": {
        "colab": {
          "base_uri": "https://localhost:8080/"
        },
        "id": "uQt90k3O4bpD",
        "outputId": "3b29d240-36fa-4a5f-e65d-8ee755e97938"
      },
      "execution_count": null,
      "outputs": [
        {
          "output_type": "execute_result",
          "data": {
            "text/plain": [
              "(252000, 12)"
            ]
          },
          "metadata": {},
          "execution_count": 8
        }
      ]
    },
    {
      "cell_type": "code",
      "source": [
        "df.describe()"
      ],
      "metadata": {
        "colab": {
          "base_uri": "https://localhost:8080/",
          "height": 301
        },
        "id": "DEM1F2BU4igl",
        "outputId": "8883ba89-f5bb-414f-b3d5-e9b983f0b3e0"
      },
      "execution_count": null,
      "outputs": [
        {
          "output_type": "execute_result",
          "data": {
            "text/plain": [
              "             Income            Age     Experience  Married/Single  \\\n",
              "count  2.520000e+05  252000.000000  252000.000000   252000.000000   \n",
              "mean   4.997117e+06      49.954071      10.084437        0.897905   \n",
              "std    2.878311e+06      17.063855       6.002590        0.302774   \n",
              "min    1.031000e+04      21.000000       0.000000        0.000000   \n",
              "25%    2.503015e+06      35.000000       5.000000        1.000000   \n",
              "50%    5.000694e+06      50.000000      10.000000        1.000000   \n",
              "75%    7.477502e+06      65.000000      15.000000        1.000000   \n",
              "max    9.999938e+06      79.000000      20.000000        1.000000   \n",
              "\n",
              "       House_Ownership  Car_Ownership     Profession           CITY  \\\n",
              "count    252000.000000  252000.000000  252000.000000  252000.000000   \n",
              "mean          1.891722       0.301587      25.276746     158.137675   \n",
              "std           0.391880       0.458948      14.728537      92.201736   \n",
              "min           0.000000       0.000000       0.000000       0.000000   \n",
              "25%           2.000000       0.000000      13.000000      78.000000   \n",
              "50%           2.000000       0.000000      26.000000     157.000000   \n",
              "75%           2.000000       1.000000      38.000000     238.000000   \n",
              "max           2.000000       1.000000      50.000000     316.000000   \n",
              "\n",
              "               STATE  CURRENT_JOB_YRS  CURRENT_HOUSE_YRS      Risk_Flag  \n",
              "count  252000.000000    252000.000000      252000.000000  252000.000000  \n",
              "mean       13.808952         6.333877          11.997794       0.123000  \n",
              "std         9.372300         3.647053           1.399037       0.328438  \n",
              "min         0.000000         0.000000          10.000000       0.000000  \n",
              "25%         6.000000         3.000000          11.000000       0.000000  \n",
              "50%        14.000000         6.000000          12.000000       0.000000  \n",
              "75%        22.000000         9.000000          13.000000       0.000000  \n",
              "max        28.000000        14.000000          14.000000       1.000000  "
            ],
            "text/html": [
              "\n",
              "  <div id=\"df-9ff21779-bc31-44b0-ae3a-c5bbdb898783\">\n",
              "    <div class=\"colab-df-container\">\n",
              "      <div>\n",
              "<style scoped>\n",
              "    .dataframe tbody tr th:only-of-type {\n",
              "        vertical-align: middle;\n",
              "    }\n",
              "\n",
              "    .dataframe tbody tr th {\n",
              "        vertical-align: top;\n",
              "    }\n",
              "\n",
              "    .dataframe thead th {\n",
              "        text-align: right;\n",
              "    }\n",
              "</style>\n",
              "<table border=\"1\" class=\"dataframe\">\n",
              "  <thead>\n",
              "    <tr style=\"text-align: right;\">\n",
              "      <th></th>\n",
              "      <th>Income</th>\n",
              "      <th>Age</th>\n",
              "      <th>Experience</th>\n",
              "      <th>Married/Single</th>\n",
              "      <th>House_Ownership</th>\n",
              "      <th>Car_Ownership</th>\n",
              "      <th>Profession</th>\n",
              "      <th>CITY</th>\n",
              "      <th>STATE</th>\n",
              "      <th>CURRENT_JOB_YRS</th>\n",
              "      <th>CURRENT_HOUSE_YRS</th>\n",
              "      <th>Risk_Flag</th>\n",
              "    </tr>\n",
              "  </thead>\n",
              "  <tbody>\n",
              "    <tr>\n",
              "      <th>count</th>\n",
              "      <td>2.520000e+05</td>\n",
              "      <td>252000.000000</td>\n",
              "      <td>252000.000000</td>\n",
              "      <td>252000.000000</td>\n",
              "      <td>252000.000000</td>\n",
              "      <td>252000.000000</td>\n",
              "      <td>252000.000000</td>\n",
              "      <td>252000.000000</td>\n",
              "      <td>252000.000000</td>\n",
              "      <td>252000.000000</td>\n",
              "      <td>252000.000000</td>\n",
              "      <td>252000.000000</td>\n",
              "    </tr>\n",
              "    <tr>\n",
              "      <th>mean</th>\n",
              "      <td>4.997117e+06</td>\n",
              "      <td>49.954071</td>\n",
              "      <td>10.084437</td>\n",
              "      <td>0.897905</td>\n",
              "      <td>1.891722</td>\n",
              "      <td>0.301587</td>\n",
              "      <td>25.276746</td>\n",
              "      <td>158.137675</td>\n",
              "      <td>13.808952</td>\n",
              "      <td>6.333877</td>\n",
              "      <td>11.997794</td>\n",
              "      <td>0.123000</td>\n",
              "    </tr>\n",
              "    <tr>\n",
              "      <th>std</th>\n",
              "      <td>2.878311e+06</td>\n",
              "      <td>17.063855</td>\n",
              "      <td>6.002590</td>\n",
              "      <td>0.302774</td>\n",
              "      <td>0.391880</td>\n",
              "      <td>0.458948</td>\n",
              "      <td>14.728537</td>\n",
              "      <td>92.201736</td>\n",
              "      <td>9.372300</td>\n",
              "      <td>3.647053</td>\n",
              "      <td>1.399037</td>\n",
              "      <td>0.328438</td>\n",
              "    </tr>\n",
              "    <tr>\n",
              "      <th>min</th>\n",
              "      <td>1.031000e+04</td>\n",
              "      <td>21.000000</td>\n",
              "      <td>0.000000</td>\n",
              "      <td>0.000000</td>\n",
              "      <td>0.000000</td>\n",
              "      <td>0.000000</td>\n",
              "      <td>0.000000</td>\n",
              "      <td>0.000000</td>\n",
              "      <td>0.000000</td>\n",
              "      <td>0.000000</td>\n",
              "      <td>10.000000</td>\n",
              "      <td>0.000000</td>\n",
              "    </tr>\n",
              "    <tr>\n",
              "      <th>25%</th>\n",
              "      <td>2.503015e+06</td>\n",
              "      <td>35.000000</td>\n",
              "      <td>5.000000</td>\n",
              "      <td>1.000000</td>\n",
              "      <td>2.000000</td>\n",
              "      <td>0.000000</td>\n",
              "      <td>13.000000</td>\n",
              "      <td>78.000000</td>\n",
              "      <td>6.000000</td>\n",
              "      <td>3.000000</td>\n",
              "      <td>11.000000</td>\n",
              "      <td>0.000000</td>\n",
              "    </tr>\n",
              "    <tr>\n",
              "      <th>50%</th>\n",
              "      <td>5.000694e+06</td>\n",
              "      <td>50.000000</td>\n",
              "      <td>10.000000</td>\n",
              "      <td>1.000000</td>\n",
              "      <td>2.000000</td>\n",
              "      <td>0.000000</td>\n",
              "      <td>26.000000</td>\n",
              "      <td>157.000000</td>\n",
              "      <td>14.000000</td>\n",
              "      <td>6.000000</td>\n",
              "      <td>12.000000</td>\n",
              "      <td>0.000000</td>\n",
              "    </tr>\n",
              "    <tr>\n",
              "      <th>75%</th>\n",
              "      <td>7.477502e+06</td>\n",
              "      <td>65.000000</td>\n",
              "      <td>15.000000</td>\n",
              "      <td>1.000000</td>\n",
              "      <td>2.000000</td>\n",
              "      <td>1.000000</td>\n",
              "      <td>38.000000</td>\n",
              "      <td>238.000000</td>\n",
              "      <td>22.000000</td>\n",
              "      <td>9.000000</td>\n",
              "      <td>13.000000</td>\n",
              "      <td>0.000000</td>\n",
              "    </tr>\n",
              "    <tr>\n",
              "      <th>max</th>\n",
              "      <td>9.999938e+06</td>\n",
              "      <td>79.000000</td>\n",
              "      <td>20.000000</td>\n",
              "      <td>1.000000</td>\n",
              "      <td>2.000000</td>\n",
              "      <td>1.000000</td>\n",
              "      <td>50.000000</td>\n",
              "      <td>316.000000</td>\n",
              "      <td>28.000000</td>\n",
              "      <td>14.000000</td>\n",
              "      <td>14.000000</td>\n",
              "      <td>1.000000</td>\n",
              "    </tr>\n",
              "  </tbody>\n",
              "</table>\n",
              "</div>\n",
              "      <button class=\"colab-df-convert\" onclick=\"convertToInteractive('df-9ff21779-bc31-44b0-ae3a-c5bbdb898783')\"\n",
              "              title=\"Convert this dataframe to an interactive table.\"\n",
              "              style=\"display:none;\">\n",
              "        \n",
              "  <svg xmlns=\"http://www.w3.org/2000/svg\" height=\"24px\"viewBox=\"0 0 24 24\"\n",
              "       width=\"24px\">\n",
              "    <path d=\"M0 0h24v24H0V0z\" fill=\"none\"/>\n",
              "    <path d=\"M18.56 5.44l.94 2.06.94-2.06 2.06-.94-2.06-.94-.94-2.06-.94 2.06-2.06.94zm-11 1L8.5 8.5l.94-2.06 2.06-.94-2.06-.94L8.5 2.5l-.94 2.06-2.06.94zm10 10l.94 2.06.94-2.06 2.06-.94-2.06-.94-.94-2.06-.94 2.06-2.06.94z\"/><path d=\"M17.41 7.96l-1.37-1.37c-.4-.4-.92-.59-1.43-.59-.52 0-1.04.2-1.43.59L10.3 9.45l-7.72 7.72c-.78.78-.78 2.05 0 2.83L4 21.41c.39.39.9.59 1.41.59.51 0 1.02-.2 1.41-.59l7.78-7.78 2.81-2.81c.8-.78.8-2.07 0-2.86zM5.41 20L4 18.59l7.72-7.72 1.47 1.35L5.41 20z\"/>\n",
              "  </svg>\n",
              "      </button>\n",
              "      \n",
              "  <style>\n",
              "    .colab-df-container {\n",
              "      display:flex;\n",
              "      flex-wrap:wrap;\n",
              "      gap: 12px;\n",
              "    }\n",
              "\n",
              "    .colab-df-convert {\n",
              "      background-color: #E8F0FE;\n",
              "      border: none;\n",
              "      border-radius: 50%;\n",
              "      cursor: pointer;\n",
              "      display: none;\n",
              "      fill: #1967D2;\n",
              "      height: 32px;\n",
              "      padding: 0 0 0 0;\n",
              "      width: 32px;\n",
              "    }\n",
              "\n",
              "    .colab-df-convert:hover {\n",
              "      background-color: #E2EBFA;\n",
              "      box-shadow: 0px 1px 2px rgba(60, 64, 67, 0.3), 0px 1px 3px 1px rgba(60, 64, 67, 0.15);\n",
              "      fill: #174EA6;\n",
              "    }\n",
              "\n",
              "    [theme=dark] .colab-df-convert {\n",
              "      background-color: #3B4455;\n",
              "      fill: #D2E3FC;\n",
              "    }\n",
              "\n",
              "    [theme=dark] .colab-df-convert:hover {\n",
              "      background-color: #434B5C;\n",
              "      box-shadow: 0px 1px 3px 1px rgba(0, 0, 0, 0.15);\n",
              "      filter: drop-shadow(0px 1px 2px rgba(0, 0, 0, 0.3));\n",
              "      fill: #FFFFFF;\n",
              "    }\n",
              "  </style>\n",
              "\n",
              "      <script>\n",
              "        const buttonEl =\n",
              "          document.querySelector('#df-9ff21779-bc31-44b0-ae3a-c5bbdb898783 button.colab-df-convert');\n",
              "        buttonEl.style.display =\n",
              "          google.colab.kernel.accessAllowed ? 'block' : 'none';\n",
              "\n",
              "        async function convertToInteractive(key) {\n",
              "          const element = document.querySelector('#df-9ff21779-bc31-44b0-ae3a-c5bbdb898783');\n",
              "          const dataTable =\n",
              "            await google.colab.kernel.invokeFunction('convertToInteractive',\n",
              "                                                     [key], {});\n",
              "          if (!dataTable) return;\n",
              "\n",
              "          const docLinkHtml = 'Like what you see? Visit the ' +\n",
              "            '<a target=\"_blank\" href=https://colab.research.google.com/notebooks/data_table.ipynb>data table notebook</a>'\n",
              "            + ' to learn more about interactive tables.';\n",
              "          element.innerHTML = '';\n",
              "          dataTable['output_type'] = 'display_data';\n",
              "          await google.colab.output.renderOutput(dataTable, element);\n",
              "          const docLink = document.createElement('div');\n",
              "          docLink.innerHTML = docLinkHtml;\n",
              "          element.appendChild(docLink);\n",
              "        }\n",
              "      </script>\n",
              "    </div>\n",
              "  </div>\n",
              "  "
            ]
          },
          "metadata": {},
          "execution_count": 9
        }
      ]
    },
    {
      "cell_type": "code",
      "source": [
        "train_data = dataset.iloc[:math.floor(0.8*dataset.shape[0]),:]\n",
        "test_data = dataset.iloc[math.floor(0.8*dataset.shape[0]):,:]\n",
        "High = train_data.loc[train_data['labels']==1]\n",
        "Low = train_data.loc[train_data['labels']==0]"
      ],
      "metadata": {
        "id": "AExmJ6_ca91a"
      },
      "execution_count": null,
      "outputs": []
    },
    {
      "cell_type": "code",
      "source": [
        "#help code for transition matrix"
      ],
      "metadata": {
        "id": "MD_GQXrYwwG6"
      },
      "execution_count": null,
      "outputs": []
    },
    {
      "cell_type": "code",
      "source": [
        "def get_transition_matrix(dataset): # TCN\n",
        "    from config import gesture_class_num\n",
        "\n",
        "    class_num = gesture_class_num + 1  # Including Init\n",
        "    matrix = np.zeros((class_num, class_num))  # 10: Init\n",
        "\n",
        "    for data in dataset:\n",
        "        gesture = data['label']\n",
        "\n",
        "        last = class_num - 1  #init\n",
        "        for i in range(len(gesture)):\n",
        "            current = int(gesture[i])\n",
        "            matrix[last][current] += 1\n",
        "            last = current\n",
        "\n",
        "    return matrix.astype(int) "
      ],
      "metadata": {
        "id": "0beDlL0Lwsci"
      },
      "execution_count": null,
      "outputs": []
    },
    {
      "cell_type": "code",
      "source": [
        "#####"
      ],
      "metadata": {
        "id": "DKnY1B2Qwy5Z"
      },
      "execution_count": null,
      "outputs": []
    },
    {
      "cell_type": "code",
      "source": [
        "\n",
        "def transition_matrixes(dataset):\n",
        "\n",
        "  Transition_matrixes = []\n",
        "  \n",
        "  tran_matrix_first = np.zeros((10,5))\n",
        "  for i in range(tran_matrix_first.shape[0]):\n",
        "    for j in range(tran_matrix_first.shape[1]):\n",
        "      #ستون سن ده حالت در نظر میگیریم بین هر ده در یک حالت \n",
        "      temp = dataset.loc[(dataset['Age']//5 == i) & (dataset['Experience']//5 == j)]\n",
        "      tran_matrix_first[i,j] = temp.shape[0]\n",
        "  each = np.sum(tran_matrix_first, axis=1)\n",
        "  tranition_matrix_first =tran_matrix_first / (each[:,None] + 1)\n",
        "  Transition_matrixes.append(tranition_matrix_first)\n",
        "  tran_matrix_second = np.zeros((5,2))\n",
        "  ##ستون مجرد/متاهل فقط شامل دو مقدار صفر و یک است. بنابراین برای این ستون دو حالت در نظر گرفته شده است •\n",
        "  for i in range(tran_matrix_second .shape[0]):\n",
        "    for j in range(tran_matrix_second .shape[1]):\n",
        "      selected = dataset.loc[(dataset['Experience']//5 == i) & (dataset['Married/Single'] == j)]\n",
        "      tran_matrix_second [i,j] = selected.shape[0]\n",
        "  each = np.sum(tran_matrix_second , axis=1)\n",
        "  tranition_matrix_second = tran_matrix_second  / (each[:,None] + 1)\n",
        "  Transition_matrixes.append(tranition_matrix_second )\n",
        "  #ستون صاحبخانه شامل سه مقدار صفر و یک و دو است\n",
        "  tran_matrix_third = np.zeros((2,3))\n",
        "  for i in range(tran_matrix_third.shape[0]):\n",
        "    for j in range(tran_matrix_third.shape[1]):\n",
        "      selected = dataset.loc[(dataset['Married/Single'] == i) & (dataset['House_Ownership'] == j)]\n",
        "      tran_matrix_third[i,j] = selected.shape[0]\n",
        "  each = np.sum(tran_matrix_third, axis=1)\n",
        "  transition_matrix_third = tran_matrix_third / (each[:,None] + 1)\n",
        "  Transition_matrixes.append(transition_matrix_third)\n",
        "  transition_matrix_four = np.zeros((3,2))\n",
        "  for i in range(transition_matrix_four.shape[0]):\n",
        "    for j in range(transition_matrix_four.shape[1]):\n",
        "      selected = dataset.loc[(dataset['House_Ownership'] == i) & (dataset['Car_Ownership'] == j)]\n",
        "      transition_matrix_four[i,j] = selected.shape[0]\n",
        "  denom = np.sum(transition_matrix_four, axis=1)\n",
        "  transition_matrix_fo = transition_matrix_four / (denom[:,None] + 1)\n",
        "  Transition_matrixes.append(transition_matrix_fo)\n",
        "  tran_matrix_five = np.zeros((2,15))\n",
        "  for i in range(tran_matrix_five.shape[0]):\n",
        "    for j in range(tran_matrix_five.shape[1]):\n",
        "      selected = dataset.loc[(dataset['Car_Ownership'] == i) & (dataset['CURRENT_JOB_YRS'] == j)]\n",
        "      tran_matrix_five[i,j] = selected.shape[0]\n",
        "  denom = np.sum(tran_matrix_five, axis=1)\n",
        "  transition_matrix_five = tran_matrix_five / (denom[:,None] + 1)\n",
        "  Transition_matrixes.append(transition_matrix_five)\n",
        "\n",
        "\n",
        "  return Transition_matrixes"
      ],
      "metadata": {
        "id": "wcoWtghzEluh"
      },
      "execution_count": 39,
      "outputs": []
    },
    {
      "cell_type": "code",
      "source": [
        "\n",
        "df.dropna(inplace=True)\n",
        "df.isnull().sum()\n",
        "\n",
        "df.shape\n",
        "\n",
        "sns.countplot(df['Age'],hue=df['Risk_Flag'],palette='Set1')\n",
        "print(pd.crosstab(df['Age'],df['Risk_Flag']))"
      ],
      "metadata": {
        "colab": {
          "base_uri": "https://localhost:8080/",
          "height": 1000
        },
        "id": "2mWgcvtl5AHL",
        "outputId": "8bea25f1-5752-4dc5-d8f8-a996f8dac93c"
      },
      "execution_count": null,
      "outputs": [
        {
          "output_type": "stream",
          "name": "stderr",
          "text": [
            "/usr/local/lib/python3.7/dist-packages/seaborn/_decorators.py:43: FutureWarning: Pass the following variable as a keyword arg: x. From version 0.12, the only valid positional argument will be `data`, and passing other arguments without an explicit keyword will result in an error or misinterpretation.\n",
            "  FutureWarning\n"
          ]
        },
        {
          "output_type": "stream",
          "name": "stdout",
          "text": [
            "Risk_Flag     0    1\n",
            "Age                 \n",
            "21         3607  598\n",
            "22         3660  770\n",
            "23         3786  536\n",
            "24         3695  631\n",
            "25         3959  584\n",
            "26         3437  719\n",
            "27         4477  720\n",
            "28         3299  602\n",
            "29         3540  569\n",
            "30         3879  589\n",
            "31         3726  531\n",
            "32         3336  498\n",
            "33         4202  719\n",
            "34         4060  354\n",
            "35         4130  513\n",
            "36         2990  454\n",
            "37         3627  526\n",
            "38         3303  490\n",
            "39         3383  417\n",
            "40         3863  370\n",
            "41         4257  570\n",
            "42         3615  519\n",
            "43         3770  436\n",
            "44         3234  388\n",
            "45         4217  589\n",
            "46         3084  543\n",
            "47         3867  616\n",
            "48         4389  578\n",
            "49         3760  443\n",
            "50         4074  550\n",
            "51         3012  385\n",
            "52         2827  370\n",
            "53         3989  501\n",
            "54         4125  660\n",
            "55         3981  582\n",
            "56         3829  515\n",
            "57         3863  531\n",
            "58         3905  463\n",
            "59         3907  591\n",
            "60         3972  532\n",
            "61         3672  563\n",
            "62         3847  464\n",
            "63         3431  511\n",
            "64         3758  374\n",
            "65         3457  512\n",
            "66         4355  737\n",
            "67         3588  407\n",
            "68         4321  451\n",
            "69         4120  497\n",
            "70         3770  481\n",
            "71         3692  458\n",
            "72         3963  570\n",
            "73         3152  417\n",
            "74         3525  429\n",
            "75         3434  395\n",
            "76         3919  666\n",
            "77         3457  459\n",
            "78         3915  540\n",
            "79         3992  513\n"
          ]
        },
        {
          "output_type": "display_data",
          "data": {
            "text/plain": [
              "<Figure size 432x288 with 1 Axes>"
            ],
            "image/png": "[encoded data removed]"
          },
          "metadata": {
            "needs_background": "light"
          }
        }
      ]
    },
    {
      "cell_type": "code",
      "source": [
        "\n",
        "sns.countplot(df['Experience'],hue=df['Risk_Flag'],palette='Set1')\n",
        "print(pd.crosstab(df['Experience'],df['Risk_Flag']))\n"
      ],
      "metadata": {
        "colab": {
          "base_uri": "https://localhost:8080/",
          "height": 734
        },
        "id": "ZOjEzogL5ZuQ",
        "outputId": "4b0cf661-36e9-4486-a8c7-4b0675955190"
      },
      "execution_count": null,
      "outputs": [
        {
          "output_type": "stream",
          "name": "stderr",
          "text": [
            "/usr/local/lib/python3.7/dist-packages/seaborn/_decorators.py:43: FutureWarning: Pass the following variable as a keyword arg: x. From version 0.12, the only valid positional argument will be `data`, and passing other arguments without an explicit keyword will result in an error or misinterpretation.\n",
            "  FutureWarning\n"
          ]
        },
        {
          "output_type": "stream",
          "name": "stdout",
          "text": [
            "Risk_Flag       0     1\n",
            "Experience             \n",
            "0            9461  1582\n",
            "1            9773  1802\n",
            "2            9197  1890\n",
            "3           10483  1586\n",
            "4           10358  1449\n",
            "5           10876  1565\n",
            "6           11601  1557\n",
            "7            9829  1403\n",
            "8           10016  1334\n",
            "9           11477  1459\n",
            "10          11188  1315\n",
            "11           9865  1584\n",
            "12          11404  1396\n",
            "13          10282  1431\n",
            "14          11157  1212\n",
            "15          10185  1808\n",
            "16          10506  1600\n",
            "17          10726  1405\n",
            "18          11572  1029\n",
            "19          10982  1305\n",
            "20          10066  1284\n"
          ]
        },
        {
          "output_type": "display_data",
          "data": {
            "text/plain": [
              "<Figure size 432x288 with 1 Axes>"
            ],
            "image/png": "[encoded data removed]"
          },
          "metadata": {
            "needs_background": "light"
          }
        }
      ]
    },
    {
      "cell_type": "code",
      "source": [
        "sns.countplot(df['Married/Single'],hue=df['Risk_Flag'],palette='Set1')\n",
        "print(pd.crosstab(df['Married/Single'],df['Risk_Flag']))"
      ],
      "metadata": {
        "colab": {
          "base_uri": "https://localhost:8080/",
          "height": 403
        },
        "id": "dYDGo2yI5rKR",
        "outputId": "67e562e6-54f2-477a-cdf2-341099fbfc78"
      },
      "execution_count": null,
      "outputs": [
        {
          "output_type": "stream",
          "name": "stderr",
          "text": [
            "/usr/local/lib/python3.7/dist-packages/seaborn/_decorators.py:43: FutureWarning: Pass the following variable as a keyword arg: x. From version 0.12, the only valid positional argument will be `data`, and passing other arguments without an explicit keyword will result in an error or misinterpretation.\n",
            "  FutureWarning\n"
          ]
        },
        {
          "output_type": "stream",
          "name": "stdout",
          "text": [
            "Risk_Flag            0      1\n",
            "Married/Single               \n",
            "0                23092   2636\n",
            "1               197912  28360\n"
          ]
        },
        {
          "output_type": "display_data",
          "data": {
            "text/plain": [
              "<Figure size 432x288 with 1 Axes>"
            ],
            "image/png": "[encoded data removed]"
          },
          "metadata": {
            "needs_background": "light"
          }
        }
      ]
    },
    {
      "cell_type": "code",
      "source": [
        "\n",
        "sns.countplot(df['House_Ownership'],hue=df['Risk_Flag'],palette='Set1')\n",
        "print(pd.crosstab(df['House_Ownership'],df['Risk_Flag']))"
      ],
      "metadata": {
        "colab": {
          "base_uri": "https://localhost:8080/",
          "height": 421
        },
        "id": "YCVd_BGV5u3i",
        "outputId": "f2457d3a-d2a4-452f-b3d5-027268ff6fb5"
      },
      "execution_count": null,
      "outputs": [
        {
          "output_type": "stream",
          "name": "stderr",
          "text": [
            "/usr/local/lib/python3.7/dist-packages/seaborn/_decorators.py:43: FutureWarning: Pass the following variable as a keyword arg: x. From version 0.12, the only valid positional argument will be `data`, and passing other arguments without an explicit keyword will result in an error or misinterpretation.\n",
            "  FutureWarning\n"
          ]
        },
        {
          "output_type": "stream",
          "name": "stdout",
          "text": [
            "Risk_Flag             0      1\n",
            "House_Ownership               \n",
            "0                  6469    715\n",
            "1                 11758   1160\n",
            "2                202777  29121\n"
          ]
        },
        {
          "output_type": "display_data",
          "data": {
            "text/plain": [
              "<Figure size 432x288 with 1 Axes>"
            ],
            "image/png": "[encoded data removed]"
          },
          "metadata": {
            "needs_background": "light"
          }
        }
      ]
    },
    {
      "cell_type": "code",
      "source": [
        "\n",
        "\n",
        "sns.countplot(df['House_Ownership'],hue=df['Risk_Flag'],palette='Set1')\n",
        "print(pd.crosstab(df['House_Ownership'],df['Risk_Flag']))"
      ],
      "metadata": {
        "colab": {
          "base_uri": "https://localhost:8080/",
          "height": 429
        },
        "id": "Fwa_UiPA51Op",
        "outputId": "3289f7b4-1d17-4595-b666-9eb7f3781335"
      },
      "execution_count": null,
      "outputs": [
        {
          "output_type": "stream",
          "name": "stderr",
          "text": [
            "/usr/local/lib/python3.7/dist-packages/seaborn/_decorators.py:43: FutureWarning: Pass the following variable as a keyword arg: x. From version 0.12, the only valid positional argument will be `data`, and passing other arguments without an explicit keyword will result in an error or misinterpretation.\n",
            "  FutureWarning\n"
          ]
        },
        {
          "output_type": "stream",
          "name": "stdout",
          "text": [
            "Loan_Status     N    Y\n",
            "Property_Area         \n",
            "Rural          61   98\n",
            "Semiurban      47  162\n",
            "Urban          58  116\n"
          ]
        },
        {
          "output_type": "display_data",
          "data": {
            "text/plain": [
              "<Figure size 432x288 with 1 Axes>"
            ],
            "image/png": "[encoded data removed]"
          },
          "metadata": {
            "needs_background": "light"
          }
        }
      ]
    },
    {
      "cell_type": "code",
      "source": [
        "sns.countplot(df['Car_Ownership'],hue=df['Risk_Flag'],palette='Set1')\n",
        "print(pd.crosstab(df['Car_Ownership'],df['Risk_Flag']))\n",
        "sns.countplot(df['Profession'],hue=df['Risk_Flag'],palette='Set1')\n",
        "print(pd.crosstab(df['Profession'],df['Risk_Flag']))\n",
        "sns.countplot(df['CURRENT_JOB_YRS'],hue=df['Risk_Flag'],palette='Set1')\n",
        "print(pd.crosstab(df['CURRENT_JOB_YRS'],df['Risk_Flag']))\n",
        "sns.countplot(df['CURRENT_HOUSE_YRS'],hue=df['Risk_Flag'],palette='Set1')\n",
        "print(pd.crosstab(df['CURRENT_HOUSE_YRS'],df['Risk_Flag']))"
      ],
      "metadata": {
        "colab": {
          "base_uri": "https://localhost:8080/",
          "height": 1000
        },
        "id": "nY7SSn1gpZsK",
        "outputId": "926e9db5-926b-4b09-d0cd-ed565bfeb5f0"
      },
      "execution_count": null,
      "outputs": [
        {
          "output_type": "stream",
          "name": "stderr",
          "text": [
            "/usr/local/lib/python3.7/dist-packages/seaborn/_decorators.py:43: FutureWarning: Pass the following variable as a keyword arg: x. From version 0.12, the only valid positional argument will be `data`, and passing other arguments without an explicit keyword will result in an error or misinterpretation.\n",
            "  FutureWarning\n"
          ]
        },
        {
          "output_type": "stream",
          "name": "stdout",
          "text": [
            "Risk_Flag           0      1\n",
            "Car_Ownership               \n",
            "0              153439  22561\n",
            "1               67565   8435\n"
          ]
        },
        {
          "output_type": "stream",
          "name": "stderr",
          "text": [
            "/usr/local/lib/python3.7/dist-packages/seaborn/_decorators.py:43: FutureWarning: Pass the following variable as a keyword arg: x. From version 0.12, the only valid positional argument will be `data`, and passing other arguments without an explicit keyword will result in an error or misinterpretation.\n",
            "  FutureWarning\n"
          ]
        },
        {
          "output_type": "stream",
          "name": "stdout",
          "text": [
            "Risk_Flag      0    1\n",
            "Profession           \n",
            "0           4566  715\n",
            "1           4101  567\n",
            "2           4046  611\n",
            "3           3952  709\n",
            "4           4265  596\n",
            "5           4116  642\n",
            "6           4473  654\n",
            "7           3803  690\n",
            "8           4072  563\n",
            "9           4624  581\n",
            "10          3989  627\n",
            "11          3902  511\n",
            "12          4630  629\n",
            "13          4682  690\n",
            "14          4371  619\n",
            "15          4206  602\n",
            "16          4258  524\n",
            "17          4223  506\n",
            "18          4096  502\n",
            "19          4754  605\n",
            "20          4119  454\n",
            "21          3570  478\n",
            "22          4692  612\n",
            "23          4634  533\n",
            "24          3895  612\n",
            "25          4494  634\n",
            "26          3998  674\n",
            "27          4570  596\n",
            "28          4477  701\n",
            "29          4732  518\n",
            "30          4194  624\n",
            "31          4107  521\n",
            "32          4714  643\n",
            "33          4635  582\n",
            "34          4274  607\n",
            "35          3532  555\n",
            "36          4612  429\n",
            "37          5247  710\n",
            "38          4209  826\n",
            "39          4389  555\n",
            "40          4733  657\n",
            "41          4091  690\n",
            "42          4401  660\n",
            "43          4303  750\n",
            "44          5135  671\n",
            "45          4221  551\n",
            "46          4000  714\n",
            "47          4498  697\n",
            "48          4240  624\n",
            "49          4351  386\n",
            "50          4808  589\n",
            "Risk_Flag            0     1\n",
            "CURRENT_JOB_YRS             \n",
            "0                 9461  1582\n",
            "1                 9773  1802\n",
            "2                 9197  1890\n",
            "3                26049  3411\n",
            "4                25132  3207\n",
            "5                22119  2972\n",
            "6                20621  2870\n",
            "7                17580  2345\n",
            "8                16693  2181\n",
            "9                15282  1850\n",
            "10               13888  1880\n",
            "11               11793  1802\n",
            "12                9489  1116\n",
            "13                7828  1271\n",
            "14                6099   817\n"
          ]
        },
        {
          "output_type": "stream",
          "name": "stderr",
          "text": [
            "/usr/local/lib/python3.7/dist-packages/seaborn/_decorators.py:43: FutureWarning: Pass the following variable as a keyword arg: x. From version 0.12, the only valid positional argument will be `data`, and passing other arguments without an explicit keyword will result in an error or misinterpretation.\n",
            "  FutureWarning\n",
            "/usr/local/lib/python3.7/dist-packages/seaborn/_decorators.py:43: FutureWarning: Pass the following variable as a keyword arg: x. From version 0.12, the only valid positional argument will be `data`, and passing other arguments without an explicit keyword will result in an error or misinterpretation.\n",
            "  FutureWarning\n"
          ]
        },
        {
          "output_type": "stream",
          "name": "stdout",
          "text": [
            "Risk_Flag              0     1\n",
            "CURRENT_HOUSE_YRS             \n",
            "10                 42592  6082\n",
            "11                 45390  6483\n",
            "12                 45487  6304\n",
            "13                 44477  6182\n",
            "14                 43058  5945\n"
          ]
        },
        {
          "output_type": "display_data",
          "data": {
            "text/plain": [
              "<Figure size 432x288 with 1 Axes>"
            ],
            "image/png": "[encoded data removed]"
          },
          "metadata": {
            "needs_background": "light"
          }
        }
      ]
    },
    {
      "cell_type": "code",
      "source": [
        "import matplotlib.pyplot as plt\n",
        "%matplotlib inline\n",
        "import seaborn as sns\n",
        "plt.figure(figsize=(16,5))\n",
        "sns.heatmap(dataset.corr(),annot=True)\n",
        "plt.title('Correlation Matrix (for Loan Status)')"
      ],
      "metadata": {
        "colab": {
          "base_uri": "https://localhost:8080/",
          "height": 354
        },
        "id": "9mZC6PvRS5wq",
        "outputId": "e15a4e18-1d54-4538-aec8-89fabca12c64"
      },
      "execution_count": 7,
      "outputs": [
        {
          "output_type": "execute_result",
          "data": {
            "text/plain": [
              "Text(0.5, 1.0, 'Correlation Matrix (for Loan Status)')"
            ]
          },
          "metadata": {},
          "execution_count": 7
        },
        {
          "output_type": "display_data",
          "data": {
            "text/plain": [
              "<Figure size 1152x360 with 2 Axes>"
            ],
            "image/png": "[encoded data removed]"
          },
          "metadata": {
            "needs_background": "light"
          }
        }
      ]
    },
    {
      "cell_type": "code",
      "source": [
        "\n",
        "df['Risk_Flag'].replace('Y',1,inplace=True)\n",
        "df['Risk_Flag'].replace('N',0,inplace=True)\n",
        "df['Risk_Flag'].value_counts()"
      ],
      "metadata": {
        "colab": {
          "base_uri": "https://localhost:8080/"
        },
        "id": "UlnA513556Tm",
        "outputId": "fd60b632-0ee1-4222-d00f-d981596bb1fc"
      },
      "execution_count": null,
      "outputs": [
        {
          "output_type": "execute_result",
          "data": {
            "text/plain": [
              "0    221004\n",
              "1     30996\n",
              "Name: Risk_Flag, dtype: int64"
            ]
          },
          "metadata": {},
          "execution_count": 18
        }
      ]
    },
    {
      "cell_type": "code",
      "source": [
        "df.Age=df.Age.map({'Age>50':1,'Age>50':0})\n",
        "df['Age'].value_counts()"
      ],
      "metadata": {
        "colab": {
          "base_uri": "https://localhost:8080/"
        },
        "id": "Y_zztnsx6HRI",
        "outputId": "bae3f93f-2e86-46da-de4b-abd9b919e8a4"
      },
      "execution_count": null,
      "outputs": [
        {
          "output_type": "execute_result",
          "data": {
            "text/plain": [
              "Series([], Name: Age, dtype: int64)"
            ]
          },
          "metadata": {},
          "execution_count": 20
        }
      ]
    },
    {
      "cell_type": "code",
      "source": [
        "markov_high = transition_matrixes(High)\n",
        "markov_low = transition_matrixes(Low)\n",
        "test_data1 = test_data.loc[test_data['labels']==1]\n",
        "test_data0 = test_data.loc[test_data['labels']==0]"
      ],
      "metadata": {
        "id": "ZgaeVbE5HosZ"
      },
      "execution_count": 41,
      "outputs": []
    },
    {
      "cell_type": "code",
      "source": [
        "def Experience(test_data, transition_matrixes, dataset):\n",
        "\n",
        "  test_data = np.array(test_data)\n",
        "  Experience = dataset.loc[dataset['Experience'] == test_data[0]].shape[0] / dataset.shape[0]\n",
        "\n",
        "  test_data[0] = test_data[0] // 10\n",
        "  test_data[1] = test_data[1] // 5\n",
        "\n",
        "  for index,transition_matrix in enumerate(transition_matrixes):\n",
        "    Experience = Experience * transition_matrix[test_data[index],test_data[index+1]]\n",
        "  return Experience"
      ],
      "metadata": {
        "id": "BFF3SVVI4-IQ"
      },
      "execution_count": 42,
      "outputs": []
    },
    {
      "cell_type": "code",
      "source": [
        "##help from this code\n",
        "   for i in range(len(test_labels)):\n",
        "        if predicted_labels[i] == test_labels[i]:\n",
        "            number_of_true += 1\n",
        "            digit_number_of_true[int(test_labels[i])] += 1\n",
        "        else:\n",
        "            number_of_false += 1\n",
        "            digit_number_of_false[int(test_labels[i])] += 1\n",
        "    total_precision = number_of_true / (number_of_true + number_of_false)\n",
        "    print('total precision:')\n",
        "    print(total_precision)\n",
        "    digit_precision = [0.0,0.0,0.0,0.0,0.0,0.0,0.0,0.0,0.0,0.0]\n",
        "    for digit in range(10):\n",
        "        digit_precision[digit] = digit_number_of_true[digit] / (digit_number_of_true[digit] + digit_number_of_false[digit])\n",
        "        print('digit ' + str(digit) + ' precision:')\n",
        "        print(digit_precision[digit]) "
      ],
      "metadata": {
        "id": "0obSZiyweVmb"
      },
      "execution_count": null,
      "outputs": []
    },
    {
      "cell_type": "code",
      "source": [
        "for index,data in test_data.iterrows():\n",
        "  score_high = Experience(data, markov_high, High)  \n",
        "  score_low = Experience(data, markov_low, Low)\n",
        "  label = data['labels']\n",
        "  prediction = 1 if score_high>score_low else 0\n",
        "  if prediction == label and label==1:\n",
        "    TruePosetive += 1\n",
        "  if prediction == label and label == 0:\n",
        "    TrueNegative += 1\n",
        "  if prediction != label and prediction == 1:\n",
        "    FulsePosetive += 1\n",
        "  if prediction != label and prediction == 0:\n",
        "    FulseNegative += 1"
      ],
      "metadata": {
        "id": "q8z3YlXb8gba"
      },
      "execution_count": 45,
      "outputs": []
    },
    {
      "cell_type": "code",
      "source": [
        "accuracy = (TruePosetive+TrueNegative)/(TruePosetive+TrueNegative+FulsePosetive+FulseNegative)\n",
        "\n",
        "print('accuracy:', accuracy)\n"
      ],
      "metadata": {
        "colab": {
          "base_uri": "https://localhost:8080/"
        },
        "id": "EA72j57Z8kFy",
        "outputId": "37409520-63ea-491a-856b-a16b8fa0f35e"
      },
      "execution_count": 21,
      "outputs": [
        {
          "output_type": "stream",
          "name": "stdout",
          "text": [
            "accuracy: 0.8055291005291005\n"
          ]
        }
      ]
    }
  ]
}